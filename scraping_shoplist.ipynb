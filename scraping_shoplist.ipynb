{
 "cells": [
  {
   "cell_type": "code",
   "execution_count": 57,
   "metadata": {},
   "outputs": [],
   "source": [
    "import csv\n",
    "import requests\n",
    "from bs4 import BeautifulSoup"
   ]
  },
  {
   "attachments": {},
   "cell_type": "markdown",
   "metadata": {},
   "source": [
    "## データの取得"
   ]
  },
  {
   "cell_type": "code",
   "execution_count": 13,
   "metadata": {},
   "outputs": [
    {
     "data": {
      "text/plain": [
       "<title>販売特約店をさがす | ADA - SHOP</title>"
      ]
     },
     "execution_count": 13,
     "metadata": {},
     "output_type": "execute_result"
    }
   ],
   "source": [
    "PAGE_URL = \"https://www.adana.co.jp/jp/contents/retailer/shop.html\"\n",
    "r = requests.get(PAGE_URL)\n",
    "r.encoding = r.apparent_encoding # エンコーディングをUTF-8に設定\n",
    "\n",
    "soup = BeautifulSoup(r.text)\n",
    "soup.title"
   ]
  },
  {
   "cell_type": "code",
   "execution_count": 88,
   "metadata": {},
   "outputs": [
    {
     "data": {
      "text/plain": [
       "<a class=\"basic-tr-link\" href=\"https://www.iland-yamagami.com/\" rel=\"noopener\" target=\"_blank\">\n",
       "<div class=\"basic-td\">\n",
       "<p><span class=\"shopname\">札幌ホームアクアリウム （アイランド やまがみ）<i class=\"fas fa-external-link-alt\"></i></span><br/>\n",
       "                   北海道札幌市清田区北野五条2丁目6-15 アイランドやまがみ内<br/>\n",
       "<i class=\"fas fa-phone\"></i>011-885-1355<br/>\n",
       "\t\t\t\t\t 営業時間：10:00-19:00<br/>定休日：年中無休\n",
       "                      </p>\n",
       "</div>\n",
       "<div class=\"basic-td shop-td5\">\n",
       "<p>\n",
       "<img alt=\"ADA NATURE AQUARIUM 150 アイテム以上在庫\" height=\"42\" src=\"img/icon/ada_naitem_icon.jpg\" width=\"42\"/>\n",
       "<img alt=\"DOOA 製品を30アイテム以上を常時在庫\" height=\"42\" src=\"img/icon/ada_dooaitem_icon.jpg\" width=\"42\"/>\n",
       "<img alt=\"佗び草、BIOみずくさの森などADAの水草・熱帯植物を常に在庫\" height=\"42\" src=\"img/icon/ada_plants_icon.jpg\" width=\"42\"/>\n",
       "<img alt=\"ADAのレイアウト素材を常時在庫\" height=\"42\" src=\"img/icon/ada_layout_icon.jpg\" width=\"42\"/>\n",
       "</p>\n",
       "</div>\n",
       "</a>"
      ]
     },
     "execution_count": 88,
     "metadata": {},
     "output_type": "execute_result"
    }
   ],
   "source": [
    "# １番目の店舗情報を取得\n",
    "soup.find(\"a\", class_=[\"basic-tr\", \"basic-tr-link\"])"
   ]
  },
  {
   "attachments": {},
   "cell_type": "markdown",
   "metadata": {},
   "source": [
    "## データの整形"
   ]
  },
  {
   "cell_type": "code",
   "execution_count": 91,
   "metadata": {},
   "outputs": [
    {
     "data": {
      "text/plain": [
       "{'name': '札幌ホームアクアリウム （アイランド やまがみ）',\n",
       " 'url': 'https://www.iland-yamagami.com/',\n",
       " 'address': '北海道札幌市清田区北野五条2丁目6-15 アイランドやまがみ内',\n",
       " 'phone': '011-885-1355',\n",
       " 'open': '営業時間：10:00-19:00 定休日：年中無休'}"
      ]
     },
     "execution_count": 91,
     "metadata": {},
     "output_type": "execute_result"
    }
   ],
   "source": [
    "shop_list = []\n",
    "\n",
    "for link in soup.find_all(\"a\", class_=[\"basic-tr\", \"basic-tr-link\"]):\n",
    "    shop_info = {}\n",
    "    shop_detail = link.div.p.get_text(',').split(',')\n",
    "    shop_detail = [x for x in shop_detail if x != \"\\n\"] # 空行を除去\n",
    "\n",
    "    shop_info[\"name\"] = shop_detail[0].strip()\n",
    "    shop_info[\"url\"] = link.get(\"href\")\n",
    "    shop_info[\"address\"] = shop_detail[1].strip()\n",
    "    shop_info[\"phone\"] = shop_detail[2].strip()\n",
    "    # 改行が1つ少ないデータがあるため、処理を分岐\n",
    "    if len(shop_detail) >= 5:\n",
    "        shop_info[\"open\"] = shop_detail[3].strip() + \" \" + shop_detail[4].strip()\n",
    "    elif len(shop_detail) == 4:\n",
    "        shop_info[\"open\"] = shop_detail[3].strip()\n",
    "    else:\n",
    "        pass\n",
    "\n",
    "    shop_list.append(shop_info)\n",
    "\n",
    "shop_list[0]"
   ]
  },
  {
   "attachments": {},
   "cell_type": "markdown",
   "metadata": {},
   "source": [
    "## CSV出力"
   ]
  },
  {
   "cell_type": "code",
   "execution_count": 92,
   "metadata": {},
   "outputs": [],
   "source": [
    "with open(\"shop_list.csv\", \"w\") as f:\n",
    "    writer = csv.DictWriter(f, fieldnames = shop_list[0].keys())\n",
    "    writer.writeheader()\n",
    "    writer.writerows(shop_list)\n"
   ]
  }
 ],
 "metadata": {
  "kernelspec": {
   "display_name": ".venv",
   "language": "python",
   "name": "python3"
  },
  "language_info": {
   "codemirror_mode": {
    "name": "ipython",
    "version": 3
   },
   "file_extension": ".py",
   "mimetype": "text/x-python",
   "name": "python",
   "nbconvert_exporter": "python",
   "pygments_lexer": "ipython3",
   "version": "3.11.1"
  },
  "orig_nbformat": 4,
  "vscode": {
   "interpreter": {
    "hash": "cb075da0d96907b8c8b786a17bc62c843d7017c84dda19bce4971a80fd325021"
   }
  }
 },
 "nbformat": 4,
 "nbformat_minor": 2
}
